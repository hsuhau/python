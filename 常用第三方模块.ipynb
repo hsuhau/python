{
 "cells": [
  {
   "cell_type": "code",
   "execution_count": null,
   "outputs": [],
   "source": [
    "# PYMYSQL"
   ],
   "metadata": {
    "collapsed": false,
    "pycharm": {
     "name": "#%%\n"
    }
   }
  },
  {
   "cell_type": "code",
   "execution_count": 2,
   "outputs": [
    {
     "name": "stdout",
     "output_type": "stream",
     "text": [
      "Database version : 5.7.36 \n"
     ]
    }
   ],
   "source": [
    "import pymysql\n",
    "\n",
    "# 打开数据库连接\n",
    "db = pymysql.connect(host='localhost',\n",
    "                     user='root',\n",
    "                     password='sa123',\n",
    "                     database='basic_db')\n",
    "\n",
    "# 使用 cursor() 方法创建一个游标对象 cursor\n",
    "cursor = db.cursor()\n",
    "\n",
    "# 使用 execute()  方法执行 SQL 查询\n",
    "cursor.execute(\"SELECT VERSION()\")\n",
    "\n",
    "# 使用 fetchone() 方法获取单条数据.\n",
    "data = cursor.fetchone()\n",
    "\n",
    "print (\"Database version : %s \" % data)\n",
    "\n",
    "# 关闭数据库连接\n",
    "db.close()"
   ],
   "metadata": {
    "collapsed": false,
    "pycharm": {
     "name": "#%%\n"
    }
   }
  },
  {
   "cell_type": "code",
   "execution_count": null,
   "outputs": [],
   "source": [],
   "metadata": {
    "collapsed": false,
    "pycharm": {
     "name": "#%%\n"
    }
   }
  },
  {
   "cell_type": "markdown",
   "source": [
    "requests"
   ],
   "metadata": {
    "collapsed": false,
    "pycharm": {
     "name": "#%% md\n"
    }
   }
  },
  {
   "cell_type": "code",
   "execution_count": 3,
   "outputs": [
    {
     "data": {
      "text/plain": "'ISO-8859-1'"
     },
     "execution_count": 3,
     "metadata": {},
     "output_type": "execute_result"
    }
   ],
   "source": [
    "import requests\n",
    "\n",
    "r = requests.get('https://www.baidu.com')"
   ],
   "metadata": {
    "collapsed": false,
    "pycharm": {
     "name": "#%%\n"
    }
   }
  },
  {
   "cell_type": "code",
   "execution_count": 4,
   "outputs": [
    {
     "data": {
      "text/plain": "200"
     },
     "execution_count": 4,
     "metadata": {},
     "output_type": "execute_result"
    }
   ],
   "source": [
    "r.status_code"
   ],
   "metadata": {
    "collapsed": false,
    "pycharm": {
     "name": "#%%\n"
    }
   }
  },
  {
   "cell_type": "code",
   "execution_count": 5,
   "outputs": [
    {
     "data": {
      "text/plain": "'<!DOCTYPE html>\\r\\n<!--STATUS OK--><html> <head><meta http-equiv=content-type content=text/html;charset=utf-8><meta http-equiv=X-UA-Compatible content=IE=Edge><meta content=always name=referrer><link rel=stylesheet type=text/css href=https://ss1.bdstatic.com/5eN1bjq8AAUYm2zgoY3K/r/www/cache/bdorz/baidu.min.css><title>ç\\x99¾åº¦ä¸\\x80ä¸\\x8bï¼\\x8cä½\\xa0å°±ç\\x9f¥é\\x81\\x93</title></head> <body link=#0000cc> <div id=wrapper> <div id=head> <div class=head_wrapper> <div class=s_form> <div class=s_form_wrapper> <div id=lg> <img hidefocus=true src=//www.baidu.com/img/bd_logo1.png width=270 height=129> </div> <form id=form name=f action=//www.baidu.com/s class=fm> <input type=hidden name=bdorz_come value=1> <input type=hidden name=ie value=utf-8> <input type=hidden name=f value=8> <input type=hidden name=rsv_bp value=1> <input type=hidden name=rsv_idx value=1> <input type=hidden name=tn value=baidu><span class=\"bg s_ipt_wr\"><input id=kw name=wd class=s_ipt value maxlength=255 autocomplete=off autofocus=autofocus></span><span class=\"bg s_btn_wr\"><input type=submit id=su value=ç\\x99¾åº¦ä¸\\x80ä¸\\x8b class=\"bg s_btn\" autofocus></span> </form> </div> </div> <div id=u1> <a href=http://news.baidu.com name=tj_trnews class=mnav>æ\\x96°é\\x97»</a> <a href=https://www.hao123.com name=tj_trhao123 class=mnav>hao123</a> <a href=http://map.baidu.com name=tj_trmap class=mnav>å\\x9c°å\\x9b¾</a> <a href=http://v.baidu.com name=tj_trvideo class=mnav>è§\\x86é¢\\x91</a> <a href=http://tieba.baidu.com name=tj_trtieba class=mnav>è´´å\\x90§</a> <noscript> <a href=http://www.baidu.com/bdorz/login.gif?login&amp;tpl=mn&amp;u=http%3A%2F%2Fwww.baidu.com%2f%3fbdorz_come%3d1 name=tj_login class=lb>ç\\x99»å½\\x95</a> </noscript> <script>document.write(\\'<a href=\"http://www.baidu.com/bdorz/login.gif?login&tpl=mn&u=\\'+ encodeURIComponent(window.location.href+ (window.location.search === \"\" ? \"?\" : \"&\")+ \"bdorz_come=1\")+ \\'\" name=\"tj_login\" class=\"lb\">ç\\x99»å½\\x95</a>\\');\\r\\n                </script> <a href=//www.baidu.com/more/ name=tj_briicon class=bri style=\"display: block;\">æ\\x9b´å¤\\x9aäº§å\\x93\\x81</a> </div> </div> </div> <div id=ftCon> <div id=ftConw> <p id=lh> <a href=http://home.baidu.com>å\\x85³äº\\x8eç\\x99¾åº¦</a> <a href=http://ir.baidu.com>About Baidu</a> </p> <p id=cp>&copy;2017&nbsp;Baidu&nbsp;<a href=http://www.baidu.com/duty/>ä½¿ç\\x94¨ç\\x99¾åº¦å\\x89\\x8då¿\\x85è¯»</a>&nbsp; <a href=http://jianyi.baidu.com/ class=cp-feedback>æ\\x84\\x8fè§\\x81å\\x8f\\x8dé¦\\x88</a>&nbsp;äº¬ICPè¯\\x81030173å\\x8f·&nbsp; <img src=//www.baidu.com/img/gs.gif> </p> </div> </div> </div> </body> </html>\\r\\n'"
     },
     "execution_count": 5,
     "metadata": {},
     "output_type": "execute_result"
    }
   ],
   "source": [
    "r.text"
   ],
   "metadata": {
    "collapsed": false,
    "pycharm": {
     "name": "#%%\n"
    }
   }
  },
  {
   "cell_type": "code",
   "execution_count": 6,
   "outputs": [
    {
     "data": {
      "text/plain": "'ISO-8859-1'"
     },
     "execution_count": 6,
     "metadata": {},
     "output_type": "execute_result"
    }
   ],
   "source": [
    "r.encoding"
   ],
   "metadata": {
    "collapsed": false,
    "pycharm": {
     "name": "#%%\n"
    }
   }
  },
  {
   "cell_type": "code",
   "execution_count": 8,
   "outputs": [
    {
     "data": {
      "text/plain": "b'<!DOCTYPE html>\\r\\n<!--STATUS OK--><html> <head><meta http-equiv=content-type content=text/html;charset=utf-8><meta http-equiv=X-UA-Compatible content=IE=Edge><meta content=always name=referrer><link rel=stylesheet type=text/css href=https://ss1.bdstatic.com/5eN1bjq8AAUYm2zgoY3K/r/www/cache/bdorz/baidu.min.css><title>\\xe7\\x99\\xbe\\xe5\\xba\\xa6\\xe4\\xb8\\x80\\xe4\\xb8\\x8b\\xef\\xbc\\x8c\\xe4\\xbd\\xa0\\xe5\\xb0\\xb1\\xe7\\x9f\\xa5\\xe9\\x81\\x93</title></head> <body link=#0000cc> <div id=wrapper> <div id=head> <div class=head_wrapper> <div class=s_form> <div class=s_form_wrapper> <div id=lg> <img hidefocus=true src=//www.baidu.com/img/bd_logo1.png width=270 height=129> </div> <form id=form name=f action=//www.baidu.com/s class=fm> <input type=hidden name=bdorz_come value=1> <input type=hidden name=ie value=utf-8> <input type=hidden name=f value=8> <input type=hidden name=rsv_bp value=1> <input type=hidden name=rsv_idx value=1> <input type=hidden name=tn value=baidu><span class=\"bg s_ipt_wr\"><input id=kw name=wd class=s_ipt value maxlength=255 autocomplete=off autofocus=autofocus></span><span class=\"bg s_btn_wr\"><input type=submit id=su value=\\xe7\\x99\\xbe\\xe5\\xba\\xa6\\xe4\\xb8\\x80\\xe4\\xb8\\x8b class=\"bg s_btn\" autofocus></span> </form> </div> </div> <div id=u1> <a href=http://news.baidu.com name=tj_trnews class=mnav>\\xe6\\x96\\xb0\\xe9\\x97\\xbb</a> <a href=https://www.hao123.com name=tj_trhao123 class=mnav>hao123</a> <a href=http://map.baidu.com name=tj_trmap class=mnav>\\xe5\\x9c\\xb0\\xe5\\x9b\\xbe</a> <a href=http://v.baidu.com name=tj_trvideo class=mnav>\\xe8\\xa7\\x86\\xe9\\xa2\\x91</a> <a href=http://tieba.baidu.com name=tj_trtieba class=mnav>\\xe8\\xb4\\xb4\\xe5\\x90\\xa7</a> <noscript> <a href=http://www.baidu.com/bdorz/login.gif?login&amp;tpl=mn&amp;u=http%3A%2F%2Fwww.baidu.com%2f%3fbdorz_come%3d1 name=tj_login class=lb>\\xe7\\x99\\xbb\\xe5\\xbd\\x95</a> </noscript> <script>document.write(\\'<a href=\"http://www.baidu.com/bdorz/login.gif?login&tpl=mn&u=\\'+ encodeURIComponent(window.location.href+ (window.location.search === \"\" ? \"?\" : \"&\")+ \"bdorz_come=1\")+ \\'\" name=\"tj_login\" class=\"lb\">\\xe7\\x99\\xbb\\xe5\\xbd\\x95</a>\\');\\r\\n                </script> <a href=//www.baidu.com/more/ name=tj_briicon class=bri style=\"display: block;\">\\xe6\\x9b\\xb4\\xe5\\xa4\\x9a\\xe4\\xba\\xa7\\xe5\\x93\\x81</a> </div> </div> </div> <div id=ftCon> <div id=ftConw> <p id=lh> <a href=http://home.baidu.com>\\xe5\\x85\\xb3\\xe4\\xba\\x8e\\xe7\\x99\\xbe\\xe5\\xba\\xa6</a> <a href=http://ir.baidu.com>About Baidu</a> </p> <p id=cp>&copy;2017&nbsp;Baidu&nbsp;<a href=http://www.baidu.com/duty/>\\xe4\\xbd\\xbf\\xe7\\x94\\xa8\\xe7\\x99\\xbe\\xe5\\xba\\xa6\\xe5\\x89\\x8d\\xe5\\xbf\\x85\\xe8\\xaf\\xbb</a>&nbsp; <a href=http://jianyi.baidu.com/ class=cp-feedback>\\xe6\\x84\\x8f\\xe8\\xa7\\x81\\xe5\\x8f\\x8d\\xe9\\xa6\\x88</a>&nbsp;\\xe4\\xba\\xacICP\\xe8\\xaf\\x81030173\\xe5\\x8f\\xb7&nbsp; <img src=//www.baidu.com/img/gs.gif> </p> </div> </div> </div> </body> </html>\\r\\n'"
     },
     "execution_count": 8,
     "metadata": {},
     "output_type": "execute_result"
    }
   ],
   "source": [
    "r.content"
   ],
   "metadata": {
    "collapsed": false,
    "pycharm": {
     "name": "#%%\n"
    }
   }
  },
  {
   "cell_type": "markdown",
   "source": [],
   "metadata": {
    "collapsed": false,
    "pycharm": {
     "name": "#%% md\n"
    }
   }
  },
  {
   "cell_type": "code",
   "execution_count": 12,
   "outputs": [],
   "source": [
    "from PIL import Image, ImageDraw, ImageFont, ImageFilter\n",
    "\n",
    "import random\n",
    "\n",
    "# 随机字母:\n",
    "def rndChar():\n",
    "    return chr(random.randint(65, 90))\n",
    "\n",
    "# 随机颜色1:\n",
    "def rndColor():\n",
    "    return (random.randint(64, 255), random.randint(64, 255), random.randint(64, 255))\n",
    "\n",
    "# 随机颜色2:\n",
    "def rndColor2():\n",
    "    return (random.randint(32, 127), random.randint(32, 127), random.randint(32, 127))\n",
    "\n",
    "# 240 x 60:\n",
    "width = 60 * 4\n",
    "height = 60\n",
    "image = Image.new('RGB', (width, height), (255, 255, 255))\n",
    "# 创建Font对象:\n",
    "font = ImageFont.truetype('arial.ttf', 36)\n",
    "# 创建Draw对象:\n",
    "draw = ImageDraw.Draw(image)\n",
    "# 填充每个像素:\n",
    "for x in range(width):\n",
    "    for y in range(height):\n",
    "        draw.point((x, y), fill=rndColor())\n",
    "# 输出文字:\n",
    "for t in range(4):\n",
    "    draw.text((60 * t + 10, 10), rndChar(), font=font, fill=rndColor2())\n",
    "# 模糊:\n",
    "image = image.filter(ImageFilter.BLUR)\n",
    "image.save('code.jpg', 'jpeg')"
   ],
   "metadata": {
    "collapsed": false,
    "pycharm": {
     "name": "#%%\n"
    }
   }
  },
  {
   "cell_type": "markdown",
   "source": [
    "Tk是一个图形库，支持多个操作系统，使用Tcl语言开发；\n",
    "\n",
    "Tk会调用操作系统提供的本地GUI接口，完成最终的GUI"
   ],
   "metadata": {
    "collapsed": false,
    "pycharm": {
     "name": "#%% md\n"
    }
   }
  },
  {
   "cell_type": "code",
   "execution_count": 14,
   "outputs": [],
   "source": [
    "from tkinter import *\n",
    "import tkinter.messagebox as messagebox\n",
    "\n",
    "class Application(Frame):\n",
    "    def __init__(self, master=None):\n",
    "        Frame.__init__(self, master)\n",
    "        self.pack()\n",
    "        self.createWidgets()\n",
    "\n",
    "    def createWidgets(self):\n",
    "        self.nameInput = Entry(self)\n",
    "        self.nameInput.pack()\n",
    "        self.alertButton = Button(self, text='Hello', command=self.hello)\n",
    "        self.alertButton.pack()\n",
    "\n",
    "    def hello(self):\n",
    "        name = self.nameInput.get() or 'world'\n",
    "        messagebox.showinfo('Message', 'Hello, %s' % name)\n",
    "\n",
    "app = Application()\n",
    "# 设置窗口标题:\n",
    "app.master.title('Hello World')\n",
    "# 主消息循环:\n",
    "app.mainloop()"
   ],
   "metadata": {
    "collapsed": false,
    "pycharm": {
     "name": "#%%\n"
    }
   }
  },
  {
   "cell_type": "markdown",
   "source": [
    "在1966年，Seymour Papert和Wally Feurzig发明了一种专门给儿童学习编程的语言——LOGO语言，它的特色就是通过编程指挥一个小海龟（turtle）在屏幕上绘图。\n",
    "\n",
    "海龟绘图（Turtle Graphics）后来被移植到各种高级语言中，Python内置了turtle库，基本上100%复制了原始的Turtle Graphics的所有功能。\n",
    "\n",
    "我们来看一个指挥小海龟绘制一个长方形的简单代码："
   ],
   "metadata": {
    "collapsed": false,
    "pycharm": {
     "name": "#%% md\n"
    }
   }
  },
  {
   "cell_type": "code",
   "execution_count": 16,
   "outputs": [
    {
     "ename": "Terminator",
     "evalue": "",
     "output_type": "error",
     "traceback": [
      "\u001B[1;31m---------------------------------------------------------------------------\u001B[0m",
      "\u001B[1;31mTerminator\u001B[0m                                Traceback (most recent call last)",
      "Input \u001B[1;32mIn [16]\u001B[0m, in \u001B[0;36m<cell line: 5>\u001B[1;34m()\u001B[0m\n\u001B[0;32m      2\u001B[0m \u001B[38;5;28;01mfrom\u001B[39;00m \u001B[38;5;21;01mturtle\u001B[39;00m \u001B[38;5;28;01mimport\u001B[39;00m \u001B[38;5;241m*\u001B[39m\n\u001B[0;32m      4\u001B[0m \u001B[38;5;66;03m# 设置笔刷宽度:\u001B[39;00m\n\u001B[1;32m----> 5\u001B[0m \u001B[43mwidth\u001B[49m\u001B[43m(\u001B[49m\u001B[38;5;241;43m4\u001B[39;49m\u001B[43m)\u001B[49m\n\u001B[0;32m      7\u001B[0m \u001B[38;5;66;03m# 前进:\u001B[39;00m\n\u001B[0;32m      8\u001B[0m forward(\u001B[38;5;241m200\u001B[39m)\n",
      "File \u001B[1;32m<string>:5\u001B[0m, in \u001B[0;36mwidth\u001B[1;34m(width)\u001B[0m\n",
      "\u001B[1;31mTerminator\u001B[0m: "
     ]
    }
   ],
   "source": [
    "# 导入turtle包的所有内容:\n",
    "from turtle import *\n",
    "\n",
    "# 设置笔刷宽度:\n",
    "width(4)\n",
    "\n",
    "# 前进:\n",
    "forward(200)\n",
    "# 右转90度:\n",
    "right(90)\n",
    "\n",
    "# 笔刷颜色:\n",
    "pencolor('red')\n",
    "forward(100)\n",
    "right(90)\n",
    "\n",
    "pencolor('green')\n",
    "forward(200)\n",
    "right(90)\n",
    "\n",
    "pencolor('blue')\n",
    "forward(100)\n",
    "right(90)\n",
    "\n",
    "# 调用done()使得窗口等待被关闭，否则将立刻关闭窗口:\n",
    "done()"
   ],
   "metadata": {
    "collapsed": false,
    "pycharm": {
     "name": "#%%\n"
    }
   }
  },
  {
   "cell_type": "markdown",
   "source": [
    "从程序代码可以看出，海龟绘图就是指挥海龟前进、转向，海龟移动的轨迹就是绘制的线条。要绘制一个长方形，只需要让海龟前进、右转90度，反复4次。\n",
    "\n",
    "调用width()函数可以设置笔刷宽度，调用pencolor()函数可以设置颜色。更多操作请参考turtle库的说明。\n",
    "\n",
    "绘图完成后，记得调用done()函数，让窗口进入消息循环，等待被关闭。否则，由于Python进程会立刻结束，将导致窗口被立刻关闭。\n",
    "\n",
    "turtle包本身只是一个绘图库，但是配合Python代码，就可以绘制各种复杂的图形。例如，通过循环绘制5个五角星："
   ],
   "metadata": {
    "collapsed": false,
    "pycharm": {
     "name": "#%% md\n"
    }
   }
  },
  {
   "cell_type": "code",
   "execution_count": 21,
   "outputs": [
    {
     "ename": "Terminator",
     "evalue": "",
     "output_type": "error",
     "traceback": [
      "\u001B[1;31m---------------------------------------------------------------------------\u001B[0m",
      "\u001B[1;31mTerminator\u001B[0m                                Traceback (most recent call last)",
      "Input \u001B[1;32mIn [21]\u001B[0m, in \u001B[0;36m<cell line: 13>\u001B[1;34m()\u001B[0m\n\u001B[0;32m     11\u001B[0m         rt(\u001B[38;5;241m144\u001B[39m)\n\u001B[0;32m     13\u001B[0m \u001B[38;5;28;01mfor\u001B[39;00m x \u001B[38;5;129;01min\u001B[39;00m \u001B[38;5;28mrange\u001B[39m(\u001B[38;5;241m0\u001B[39m, \u001B[38;5;241m250\u001B[39m, \u001B[38;5;241m50\u001B[39m):\n\u001B[1;32m---> 14\u001B[0m     \u001B[43mdrawStar\u001B[49m\u001B[43m(\u001B[49m\u001B[43mx\u001B[49m\u001B[43m,\u001B[49m\u001B[43m \u001B[49m\u001B[38;5;241;43m0\u001B[39;49m\u001B[43m)\u001B[49m\n\u001B[0;32m     16\u001B[0m done()\n",
      "Input \u001B[1;32mIn [21]\u001B[0m, in \u001B[0;36mdrawStar\u001B[1;34m(x, y)\u001B[0m\n\u001B[0;32m      3\u001B[0m \u001B[38;5;28;01mdef\u001B[39;00m \u001B[38;5;21mdrawStar\u001B[39m(x, y):\n\u001B[1;32m----> 4\u001B[0m     \u001B[43mpu\u001B[49m\u001B[43m(\u001B[49m\u001B[43m)\u001B[49m\n\u001B[0;32m      5\u001B[0m     goto(x, y)\n\u001B[0;32m      6\u001B[0m     pd()\n",
      "File \u001B[1;32m<string>:5\u001B[0m, in \u001B[0;36mpu\u001B[1;34m()\u001B[0m\n",
      "\u001B[1;31mTerminator\u001B[0m: "
     ]
    }
   ],
   "source": [
    "from turtle import *\n",
    "\n",
    "def drawStar(x, y):\n",
    "    pu()\n",
    "    goto(x, y)\n",
    "    pd()\n",
    "    # set heading: 0\n",
    "    seth(0)\n",
    "    for i in range(5):\n",
    "        fd(40)\n",
    "        rt(144)\n",
    "\n",
    "for x in range(0, 250, 50):\n",
    "    drawStar(x, 0)\n",
    "\n",
    "done()"
   ],
   "metadata": {
    "collapsed": false,
    "pycharm": {
     "name": "#%%\n"
    }
   }
  },
  {
   "cell_type": "markdown",
   "source": [
    "使用递归，可以绘制出非常复杂的图形。例如，下面的代码可以绘制一棵分型树："
   ],
   "metadata": {
    "collapsed": false,
    "pycharm": {
     "name": "#%% md\n"
    }
   }
  },
  {
   "cell_type": "code",
   "execution_count": 22,
   "outputs": [
    {
     "ename": "Terminator",
     "evalue": "",
     "output_type": "error",
     "traceback": [
      "\u001B[1;31m---------------------------------------------------------------------------\u001B[0m",
      "\u001B[1;31mTerminator\u001B[0m                                Traceback (most recent call last)",
      "Input \u001B[1;32mIn [22]\u001B[0m, in \u001B[0;36m<cell line: 59>\u001B[1;34m()\u001B[0m\n\u001B[0;32m     55\u001B[0m     width(w)\n\u001B[0;32m     57\u001B[0m speed(\u001B[38;5;124m\"\u001B[39m\u001B[38;5;124mfastest\u001B[39m\u001B[38;5;124m\"\u001B[39m)\n\u001B[1;32m---> 59\u001B[0m \u001B[43mdraw_tree\u001B[49m\u001B[43m(\u001B[49m\u001B[43ml\u001B[49m\u001B[43m,\u001B[49m\u001B[43m \u001B[49m\u001B[38;5;241;43m4\u001B[39;49m\u001B[43m)\u001B[49m\n\u001B[0;32m     61\u001B[0m done()\n",
      "Input \u001B[1;32mIn [22]\u001B[0m, in \u001B[0;36mdraw_tree\u001B[1;34m(l, level)\u001B[0m\n\u001B[0;32m     41\u001B[0m fd(l)\n\u001B[0;32m     43\u001B[0m \u001B[38;5;28;01mif\u001B[39;00m level \u001B[38;5;241m<\u001B[39m lv:\n\u001B[1;32m---> 44\u001B[0m     \u001B[43mdraw_tree\u001B[49m\u001B[43m(\u001B[49m\u001B[43ml\u001B[49m\u001B[43m,\u001B[49m\u001B[43m \u001B[49m\u001B[43mlevel\u001B[49m\u001B[43m \u001B[49m\u001B[38;5;241;43m+\u001B[39;49m\u001B[43m \u001B[49m\u001B[38;5;241;43m1\u001B[39;49m\u001B[43m)\u001B[49m\n\u001B[0;32m     45\u001B[0m bk(l)\n\u001B[0;32m     46\u001B[0m rt(\u001B[38;5;241m2\u001B[39m \u001B[38;5;241m*\u001B[39m s)\n",
      "Input \u001B[1;32mIn [22]\u001B[0m, in \u001B[0;36mdraw_tree\u001B[1;34m(l, level)\u001B[0m\n\u001B[0;32m     41\u001B[0m fd(l)\n\u001B[0;32m     43\u001B[0m \u001B[38;5;28;01mif\u001B[39;00m level \u001B[38;5;241m<\u001B[39m lv:\n\u001B[1;32m---> 44\u001B[0m     \u001B[43mdraw_tree\u001B[49m\u001B[43m(\u001B[49m\u001B[43ml\u001B[49m\u001B[43m,\u001B[49m\u001B[43m \u001B[49m\u001B[43mlevel\u001B[49m\u001B[43m \u001B[49m\u001B[38;5;241;43m+\u001B[39;49m\u001B[43m \u001B[49m\u001B[38;5;241;43m1\u001B[39;49m\u001B[43m)\u001B[49m\n\u001B[0;32m     45\u001B[0m bk(l)\n\u001B[0;32m     46\u001B[0m rt(\u001B[38;5;241m2\u001B[39m \u001B[38;5;241m*\u001B[39m s)\n",
      "    \u001B[1;31m[... skipping similar frames: draw_tree at line 44 (2 times)]\u001B[0m\n",
      "Input \u001B[1;32mIn [22]\u001B[0m, in \u001B[0;36mdraw_tree\u001B[1;34m(l, level)\u001B[0m\n\u001B[0;32m     41\u001B[0m fd(l)\n\u001B[0;32m     43\u001B[0m \u001B[38;5;28;01mif\u001B[39;00m level \u001B[38;5;241m<\u001B[39m lv:\n\u001B[1;32m---> 44\u001B[0m     \u001B[43mdraw_tree\u001B[49m\u001B[43m(\u001B[49m\u001B[43ml\u001B[49m\u001B[43m,\u001B[49m\u001B[43m \u001B[49m\u001B[43mlevel\u001B[49m\u001B[43m \u001B[49m\u001B[38;5;241;43m+\u001B[39;49m\u001B[43m \u001B[49m\u001B[38;5;241;43m1\u001B[39;49m\u001B[43m)\u001B[49m\n\u001B[0;32m     45\u001B[0m bk(l)\n\u001B[0;32m     46\u001B[0m rt(\u001B[38;5;241m2\u001B[39m \u001B[38;5;241m*\u001B[39m s)\n",
      "Input \u001B[1;32mIn [22]\u001B[0m, in \u001B[0;36mdraw_tree\u001B[1;34m(l, level)\u001B[0m\n\u001B[0;32m     47\u001B[0m fd(l)\n\u001B[0;32m     49\u001B[0m \u001B[38;5;28;01mif\u001B[39;00m level \u001B[38;5;241m<\u001B[39m lv:\n\u001B[1;32m---> 50\u001B[0m     \u001B[43mdraw_tree\u001B[49m\u001B[43m(\u001B[49m\u001B[43ml\u001B[49m\u001B[43m,\u001B[49m\u001B[43m \u001B[49m\u001B[43mlevel\u001B[49m\u001B[43m \u001B[49m\u001B[38;5;241;43m+\u001B[39;49m\u001B[43m \u001B[49m\u001B[38;5;241;43m1\u001B[39;49m\u001B[43m)\u001B[49m\n\u001B[0;32m     51\u001B[0m bk(l)\n\u001B[0;32m     52\u001B[0m lt(s)\n",
      "Input \u001B[1;32mIn [22]\u001B[0m, in \u001B[0;36mdraw_tree\u001B[1;34m(l, level)\u001B[0m\n\u001B[0;32m     47\u001B[0m fd(l)\n\u001B[0;32m     49\u001B[0m \u001B[38;5;28;01mif\u001B[39;00m level \u001B[38;5;241m<\u001B[39m lv:\n\u001B[1;32m---> 50\u001B[0m     \u001B[43mdraw_tree\u001B[49m\u001B[43m(\u001B[49m\u001B[43ml\u001B[49m\u001B[43m,\u001B[49m\u001B[43m \u001B[49m\u001B[43mlevel\u001B[49m\u001B[43m \u001B[49m\u001B[38;5;241;43m+\u001B[39;49m\u001B[43m \u001B[49m\u001B[38;5;241;43m1\u001B[39;49m\u001B[43m)\u001B[49m\n\u001B[0;32m     51\u001B[0m bk(l)\n\u001B[0;32m     52\u001B[0m lt(s)\n",
      "Input \u001B[1;32mIn [22]\u001B[0m, in \u001B[0;36mdraw_tree\u001B[1;34m(l, level)\u001B[0m\n\u001B[0;32m     41\u001B[0m fd(l)\n\u001B[0;32m     43\u001B[0m \u001B[38;5;28;01mif\u001B[39;00m level \u001B[38;5;241m<\u001B[39m lv:\n\u001B[1;32m---> 44\u001B[0m     \u001B[43mdraw_tree\u001B[49m\u001B[43m(\u001B[49m\u001B[43ml\u001B[49m\u001B[43m,\u001B[49m\u001B[43m \u001B[49m\u001B[43mlevel\u001B[49m\u001B[43m \u001B[49m\u001B[38;5;241;43m+\u001B[39;49m\u001B[43m \u001B[49m\u001B[38;5;241;43m1\u001B[39;49m\u001B[43m)\u001B[49m\n\u001B[0;32m     45\u001B[0m bk(l)\n\u001B[0;32m     46\u001B[0m rt(\u001B[38;5;241m2\u001B[39m \u001B[38;5;241m*\u001B[39m s)\n",
      "Input \u001B[1;32mIn [22]\u001B[0m, in \u001B[0;36mdraw_tree\u001B[1;34m(l, level)\u001B[0m\n\u001B[0;32m     47\u001B[0m fd(l)\n\u001B[0;32m     49\u001B[0m \u001B[38;5;28;01mif\u001B[39;00m level \u001B[38;5;241m<\u001B[39m lv:\n\u001B[1;32m---> 50\u001B[0m     \u001B[43mdraw_tree\u001B[49m\u001B[43m(\u001B[49m\u001B[43ml\u001B[49m\u001B[43m,\u001B[49m\u001B[43m \u001B[49m\u001B[43mlevel\u001B[49m\u001B[43m \u001B[49m\u001B[38;5;241;43m+\u001B[39;49m\u001B[43m \u001B[49m\u001B[38;5;241;43m1\u001B[39;49m\u001B[43m)\u001B[49m\n\u001B[0;32m     51\u001B[0m bk(l)\n\u001B[0;32m     52\u001B[0m lt(s)\n",
      "Input \u001B[1;32mIn [22]\u001B[0m, in \u001B[0;36mdraw_tree\u001B[1;34m(l, level)\u001B[0m\n\u001B[0;32m     34\u001B[0m g \u001B[38;5;241m=\u001B[39m g \u001B[38;5;241m+\u001B[39m \u001B[38;5;241m2\u001B[39m\n\u001B[0;32m     35\u001B[0m b \u001B[38;5;241m=\u001B[39m b \u001B[38;5;241m+\u001B[39m \u001B[38;5;241m3\u001B[39m\n\u001B[1;32m---> 36\u001B[0m \u001B[43mpencolor\u001B[49m\u001B[43m(\u001B[49m\u001B[43mr\u001B[49m\u001B[43m \u001B[49m\u001B[38;5;241;43m%\u001B[39;49m\u001B[43m \u001B[49m\u001B[38;5;241;43m200\u001B[39;49m\u001B[43m,\u001B[49m\u001B[43m \u001B[49m\u001B[43mg\u001B[49m\u001B[43m \u001B[49m\u001B[38;5;241;43m%\u001B[39;49m\u001B[43m \u001B[49m\u001B[38;5;241;43m200\u001B[39;49m\u001B[43m,\u001B[49m\u001B[43m \u001B[49m\u001B[43mb\u001B[49m\u001B[43m \u001B[49m\u001B[38;5;241;43m%\u001B[39;49m\u001B[43m \u001B[49m\u001B[38;5;241;43m200\u001B[39;49m\u001B[43m)\u001B[49m\n\u001B[0;32m     38\u001B[0m l \u001B[38;5;241m=\u001B[39m \u001B[38;5;241m3.0\u001B[39m \u001B[38;5;241m/\u001B[39m \u001B[38;5;241m4.0\u001B[39m \u001B[38;5;241m*\u001B[39m l\n\u001B[0;32m     40\u001B[0m lt(s)\n",
      "File \u001B[1;32m<string>:5\u001B[0m, in \u001B[0;36mpencolor\u001B[1;34m(*args)\u001B[0m\n",
      "\u001B[1;31mTerminator\u001B[0m: "
     ]
    }
   ],
   "source": [
    "from turtle import *\n",
    "\n",
    "# 设置色彩模式是RGB:\n",
    "colormode(255)\n",
    "\n",
    "lt(90)\n",
    "\n",
    "lv = 14\n",
    "l = 120\n",
    "s = 45\n",
    "\n",
    "width(lv)\n",
    "\n",
    "# 初始化RGB颜色:\n",
    "r = 0\n",
    "g = 0\n",
    "b = 0\n",
    "pencolor(r, g, b)\n",
    "\n",
    "penup()\n",
    "bk(l)\n",
    "pendown()\n",
    "fd(l)\n",
    "\n",
    "def draw_tree(l, level):\n",
    "    global r, g, b\n",
    "    # save the current pen width\n",
    "    w = width()\n",
    "\n",
    "    # narrow the pen width\n",
    "    width(w * 3.0 / 4.0)\n",
    "    # set color:\n",
    "    r = r + 1\n",
    "    g = g + 2\n",
    "    b = b + 3\n",
    "    pencolor(r % 200, g % 200, b % 200)\n",
    "\n",
    "    l = 3.0 / 4.0 * l\n",
    "\n",
    "    lt(s)\n",
    "    fd(l)\n",
    "\n",
    "    if level < lv:\n",
    "        draw_tree(l, level + 1)\n",
    "    bk(l)\n",
    "    rt(2 * s)\n",
    "    fd(l)\n",
    "\n",
    "    if level < lv:\n",
    "        draw_tree(l, level + 1)\n",
    "    bk(l)\n",
    "    lt(s)\n",
    "\n",
    "    # restore the previous pen width\n",
    "    width(w)\n",
    "\n",
    "speed(\"fastest\")\n",
    "\n",
    "draw_tree(l, 4)\n",
    "\n",
    "done()"
   ],
   "metadata": {
    "collapsed": false,
    "pycharm": {
     "name": "#%%\n"
    }
   }
  },
  {
   "cell_type": "markdown",
   "source": [],
   "metadata": {
    "collapsed": false,
    "pycharm": {
     "name": "#%% md\n"
    }
   }
  },
  {
   "cell_type": "code",
   "execution_count": 20,
   "outputs": [
    {
     "ename": "ConnectionRefusedError",
     "evalue": "[WinError 10061] 由于目标计算机积极拒绝，无法连接。",
     "output_type": "error",
     "traceback": [
      "\u001B[1;31m---------------------------------------------------------------------------\u001B[0m",
      "\u001B[1;31mConnectionRefusedError\u001B[0m                    Traceback (most recent call last)",
      "Input \u001B[1;32mIn [20]\u001B[0m, in \u001B[0;36m<cell line: 17>\u001B[1;34m()\u001B[0m\n\u001B[0;32m     14\u001B[0m message[\u001B[38;5;124m'\u001B[39m\u001B[38;5;124mSubject\u001B[39m\u001B[38;5;124m'\u001B[39m] \u001B[38;5;241m=\u001B[39m Header(subject, \u001B[38;5;124m'\u001B[39m\u001B[38;5;124mutf-8\u001B[39m\u001B[38;5;124m'\u001B[39m)\n\u001B[0;32m     17\u001B[0m \u001B[38;5;28;01mtry\u001B[39;00m:\n\u001B[1;32m---> 18\u001B[0m     smtpObj \u001B[38;5;241m=\u001B[39m \u001B[43msmtplib\u001B[49m\u001B[38;5;241;43m.\u001B[39;49m\u001B[43mSMTP\u001B[49m\u001B[43m(\u001B[49m\u001B[38;5;124;43m'\u001B[39;49m\u001B[38;5;124;43mlocalhost\u001B[39;49m\u001B[38;5;124;43m'\u001B[39;49m\u001B[43m)\u001B[49m\n\u001B[0;32m     19\u001B[0m     smtpObj\u001B[38;5;241m.\u001B[39msendmail(sender, receivers, message\u001B[38;5;241m.\u001B[39mas_string())\n\u001B[0;32m     20\u001B[0m     \u001B[38;5;28mprint\u001B[39m(\u001B[38;5;124m\"\u001B[39m\u001B[38;5;124m邮件发送成功\u001B[39m\u001B[38;5;124m\"\u001B[39m)\n",
      "File \u001B[1;32m~\\AppData\\Local\\Programs\\Python\\Python310\\lib\\smtplib.py:255\u001B[0m, in \u001B[0;36mSMTP.__init__\u001B[1;34m(self, host, port, local_hostname, timeout, source_address)\u001B[0m\n\u001B[0;32m    252\u001B[0m \u001B[38;5;28mself\u001B[39m\u001B[38;5;241m.\u001B[39m_auth_challenge_count \u001B[38;5;241m=\u001B[39m \u001B[38;5;241m0\u001B[39m\n\u001B[0;32m    254\u001B[0m \u001B[38;5;28;01mif\u001B[39;00m host:\n\u001B[1;32m--> 255\u001B[0m     (code, msg) \u001B[38;5;241m=\u001B[39m \u001B[38;5;28;43mself\u001B[39;49m\u001B[38;5;241;43m.\u001B[39;49m\u001B[43mconnect\u001B[49m\u001B[43m(\u001B[49m\u001B[43mhost\u001B[49m\u001B[43m,\u001B[49m\u001B[43m \u001B[49m\u001B[43mport\u001B[49m\u001B[43m)\u001B[49m\n\u001B[0;32m    256\u001B[0m     \u001B[38;5;28;01mif\u001B[39;00m code \u001B[38;5;241m!=\u001B[39m \u001B[38;5;241m220\u001B[39m:\n\u001B[0;32m    257\u001B[0m         \u001B[38;5;28mself\u001B[39m\u001B[38;5;241m.\u001B[39mclose()\n",
      "File \u001B[1;32m~\\AppData\\Local\\Programs\\Python\\Python310\\lib\\smtplib.py:341\u001B[0m, in \u001B[0;36mSMTP.connect\u001B[1;34m(self, host, port, source_address)\u001B[0m\n\u001B[0;32m    339\u001B[0m     port \u001B[38;5;241m=\u001B[39m \u001B[38;5;28mself\u001B[39m\u001B[38;5;241m.\u001B[39mdefault_port\n\u001B[0;32m    340\u001B[0m sys\u001B[38;5;241m.\u001B[39maudit(\u001B[38;5;124m\"\u001B[39m\u001B[38;5;124msmtplib.connect\u001B[39m\u001B[38;5;124m\"\u001B[39m, \u001B[38;5;28mself\u001B[39m, host, port)\n\u001B[1;32m--> 341\u001B[0m \u001B[38;5;28mself\u001B[39m\u001B[38;5;241m.\u001B[39msock \u001B[38;5;241m=\u001B[39m \u001B[38;5;28;43mself\u001B[39;49m\u001B[38;5;241;43m.\u001B[39;49m\u001B[43m_get_socket\u001B[49m\u001B[43m(\u001B[49m\u001B[43mhost\u001B[49m\u001B[43m,\u001B[49m\u001B[43m \u001B[49m\u001B[43mport\u001B[49m\u001B[43m,\u001B[49m\u001B[43m \u001B[49m\u001B[38;5;28;43mself\u001B[39;49m\u001B[38;5;241;43m.\u001B[39;49m\u001B[43mtimeout\u001B[49m\u001B[43m)\u001B[49m\n\u001B[0;32m    342\u001B[0m \u001B[38;5;28mself\u001B[39m\u001B[38;5;241m.\u001B[39mfile \u001B[38;5;241m=\u001B[39m \u001B[38;5;28;01mNone\u001B[39;00m\n\u001B[0;32m    343\u001B[0m (code, msg) \u001B[38;5;241m=\u001B[39m \u001B[38;5;28mself\u001B[39m\u001B[38;5;241m.\u001B[39mgetreply()\n",
      "File \u001B[1;32m~\\AppData\\Local\\Programs\\Python\\Python310\\lib\\smtplib.py:312\u001B[0m, in \u001B[0;36mSMTP._get_socket\u001B[1;34m(self, host, port, timeout)\u001B[0m\n\u001B[0;32m    310\u001B[0m \u001B[38;5;28;01mif\u001B[39;00m \u001B[38;5;28mself\u001B[39m\u001B[38;5;241m.\u001B[39mdebuglevel \u001B[38;5;241m>\u001B[39m \u001B[38;5;241m0\u001B[39m:\n\u001B[0;32m    311\u001B[0m     \u001B[38;5;28mself\u001B[39m\u001B[38;5;241m.\u001B[39m_print_debug(\u001B[38;5;124m'\u001B[39m\u001B[38;5;124mconnect: to\u001B[39m\u001B[38;5;124m'\u001B[39m, (host, port), \u001B[38;5;28mself\u001B[39m\u001B[38;5;241m.\u001B[39msource_address)\n\u001B[1;32m--> 312\u001B[0m \u001B[38;5;28;01mreturn\u001B[39;00m \u001B[43msocket\u001B[49m\u001B[38;5;241;43m.\u001B[39;49m\u001B[43mcreate_connection\u001B[49m\u001B[43m(\u001B[49m\u001B[43m(\u001B[49m\u001B[43mhost\u001B[49m\u001B[43m,\u001B[49m\u001B[43m \u001B[49m\u001B[43mport\u001B[49m\u001B[43m)\u001B[49m\u001B[43m,\u001B[49m\u001B[43m \u001B[49m\u001B[43mtimeout\u001B[49m\u001B[43m,\u001B[49m\n\u001B[0;32m    313\u001B[0m \u001B[43m                                \u001B[49m\u001B[38;5;28;43mself\u001B[39;49m\u001B[38;5;241;43m.\u001B[39;49m\u001B[43msource_address\u001B[49m\u001B[43m)\u001B[49m\n",
      "File \u001B[1;32m~\\AppData\\Local\\Programs\\Python\\Python310\\lib\\socket.py:845\u001B[0m, in \u001B[0;36mcreate_connection\u001B[1;34m(address, timeout, source_address)\u001B[0m\n\u001B[0;32m    843\u001B[0m \u001B[38;5;28;01mif\u001B[39;00m err \u001B[38;5;129;01mis\u001B[39;00m \u001B[38;5;129;01mnot\u001B[39;00m \u001B[38;5;28;01mNone\u001B[39;00m:\n\u001B[0;32m    844\u001B[0m     \u001B[38;5;28;01mtry\u001B[39;00m:\n\u001B[1;32m--> 845\u001B[0m         \u001B[38;5;28;01mraise\u001B[39;00m err\n\u001B[0;32m    846\u001B[0m     \u001B[38;5;28;01mfinally\u001B[39;00m:\n\u001B[0;32m    847\u001B[0m         \u001B[38;5;66;03m# Break explicitly a reference cycle\u001B[39;00m\n\u001B[0;32m    848\u001B[0m         err \u001B[38;5;241m=\u001B[39m \u001B[38;5;28;01mNone\u001B[39;00m\n",
      "File \u001B[1;32m~\\AppData\\Local\\Programs\\Python\\Python310\\lib\\socket.py:833\u001B[0m, in \u001B[0;36mcreate_connection\u001B[1;34m(address, timeout, source_address)\u001B[0m\n\u001B[0;32m    831\u001B[0m \u001B[38;5;28;01mif\u001B[39;00m source_address:\n\u001B[0;32m    832\u001B[0m     sock\u001B[38;5;241m.\u001B[39mbind(source_address)\n\u001B[1;32m--> 833\u001B[0m \u001B[43msock\u001B[49m\u001B[38;5;241;43m.\u001B[39;49m\u001B[43mconnect\u001B[49m\u001B[43m(\u001B[49m\u001B[43msa\u001B[49m\u001B[43m)\u001B[49m\n\u001B[0;32m    834\u001B[0m \u001B[38;5;66;03m# Break explicitly a reference cycle\u001B[39;00m\n\u001B[0;32m    835\u001B[0m err \u001B[38;5;241m=\u001B[39m \u001B[38;5;28;01mNone\u001B[39;00m\n",
      "\u001B[1;31mConnectionRefusedError\u001B[0m: [WinError 10061] 由于目标计算机积极拒绝，无法连接。"
     ]
    }
   ],
   "source": [
    "import smtplib\n",
    "from email.mime.text import MIMEText\n",
    "from email.header import Header\n",
    "\n",
    "sender = 'from@runoob.com'\n",
    "receivers = ['hsuhau@foxmail.com']  # 接收邮件，可设置为你的QQ邮箱或者其他邮箱\n",
    "\n",
    "# 三个参数：第一个为文本内容，第二个 plain 设置文本格式，第三个 utf-8 设置编码\n",
    "message = MIMEText('Python 邮件发送测试...', 'plain', 'utf-8')\n",
    "message['From'] = Header(\"菜鸟教程\", 'utf-8')   # 发送者\n",
    "message['To'] =  Header(\"测试\", 'utf-8')        # 接收者\n",
    "\n",
    "subject = 'Python SMTP 邮件测试'\n",
    "message['Subject'] = Header(subject, 'utf-8')\n",
    "\n",
    "\n",
    "try:\n",
    "    smtpObj = smtplib.SMTP('localhost')\n",
    "    smtpObj.sendmail(sender, receivers, message.as_string())\n",
    "    print(\"邮件发送成功\")\n",
    "except smtplib.SMTPException:\n",
    "    print(\"Error: 无法发送邮件\")"
   ],
   "metadata": {
    "collapsed": false,
    "pycharm": {
     "name": "#%%\n"
    }
   }
  },
  {
   "cell_type": "code",
   "execution_count": null,
   "outputs": [],
   "source": [],
   "metadata": {
    "collapsed": false,
    "pycharm": {
     "name": "#%%\n"
    }
   }
  }
 ],
 "metadata": {
  "kernelspec": {
   "display_name": "Python 3",
   "language": "python",
   "name": "python3"
  },
  "language_info": {
   "codemirror_mode": {
    "name": "ipython",
    "version": 2
   },
   "file_extension": ".py",
   "mimetype": "text/x-python",
   "name": "python",
   "nbconvert_exporter": "python",
   "pygments_lexer": "ipython2",
   "version": "2.7.6"
  }
 },
 "nbformat": 4,
 "nbformat_minor": 0
}